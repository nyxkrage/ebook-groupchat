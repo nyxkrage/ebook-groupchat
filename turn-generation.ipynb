{
 "cells": [
  {
   "cell_type": "code",
   "execution_count": 2,
   "metadata": {},
   "outputs": [],
   "source": [
    "import os\n",
    "import re\n",
    "from langchain_openai import ChatOpenAI"
   ]
  },
  {
   "cell_type": "code",
   "execution_count": null,
   "metadata": {},
   "outputs": [],
   "source": [
    "with open('.env') as f:\n",
    "    for line in f.read().splitlines():\n",
    "        k, v = line.split('=')\n",
    "        os.environ[k] = v"
   ]
  },
  {
   "cell_type": "code",
   "execution_count": 4,
   "metadata": {},
   "outputs": [],
   "source": [
    "oai_llm = ChatOpenAI(api_key=os.environ[\"OAI_KEY_1\"], model=\"gpt-4\", base_url=os.environ.get(\"OAI_BASE_URL\", None))"
   ]
  },
  {
   "cell_type": "code",
   "execution_count": null,
   "metadata": {},
   "outputs": [],
   "source": [
    "system_prompt = \"You are a helpful storywriting assistant.\""
   ]
  },
  {
   "cell_type": "code",
   "execution_count": null,
   "metadata": {},
   "outputs": [],
   "source": [
    "chapter = open(\"out/chapter_5.txt\").read()"
   ]
  },
  {
   "cell_type": "markdown",
   "metadata": {},
   "source": [
    "Identify characters in the chapter for use when marking which characters turn it is"
   ]
  },
  {
   "cell_type": "code",
   "execution_count": null,
   "metadata": {},
   "outputs": [],
   "source": [
    "messages = [\n",
    "    {\"role\": \"system\", \"content\": system_prompt},\n",
    "    {\"role\": \"user\", \"content\": f\"\"\"Give the following story, please point out each named character present in the Scene. List only the characters in a list like the following\n",
    "1. Character 1 (Also referred to as X)\n",
    "2. Character 2\n",
    "\n",
    "{chapter}\"\"\"}\n",
    "]\n",
    "\n",
    "characters = oai_llm.invoke(messages).content\n",
    "print(characters)"
   ]
  },
  {
   "cell_type": "code",
   "execution_count": null,
   "metadata": {},
   "outputs": [],
   "source": [
    "# given an index i get the ith line and the surrounding 3 lines before and after\n",
    "def get_lines(lines, i, context=3):\n",
    "  start = max(0, i - context)\n",
    "  end = min(len(lines), i + context + 1)\n",
    "  return \"\\n\".join(lines[start:end])"
   ]
  },
  {
   "cell_type": "markdown",
   "metadata": {},
   "source": [
    "Here we go over each line of the chapter adding character markers to indicate the turn of the actions and speech. We add surrounding lines and the list of characters as context."
   ]
  },
  {
   "cell_type": "code",
   "execution_count": null,
   "metadata": {},
   "outputs": [],
   "source": [
    "lines = chapter.splitlines()\n",
    "ouput = \"\"\n",
    "for i, line in enumerate(lines):\n",
    "    messages = [\n",
    "        { \"role\": \"system\", \"content\": system_prompt },\n",
    "        { \"role\": \"user\", \"content\": f\"\"\"Please insert markers for when the character acting changes, you will be given the surrouding context to help. You should only add markers to the single linge given.\n",
    "The detective rapidly summarizes the patient's status, concluding, \"He hasn't been stabilized. He's in circulatory shock and unconscious.\"\n",
    "\"Who's the doctor in charge?\" asks Erik.\n",
    "\"Daniella Richards.\"\n",
    "\"She's extremely capable. I'm sure she can—\"\n",
    "\"She was the one who asked me to call you. She needs your help. It's urgent.\"\n",
    "When Erik returns to the bedroom to get his clothes, Simone is lying on her back, looking at him with a strange, empty expression. A strip of light from the streetlamp is shining in between the blinds.\n",
    "\"I didn't mean to wake you,\" he says softly.\n",
    "         \n",
    "Here are the characters in the schene:\n",
    "{\", \".join(characters)}\n",
    "\n",
    "Here is the line that you must add the markers to:\n",
    "\"She's extremely capable. I'm sure she can—\\\"\"\"\"},\n",
    "        { \"role\": \"assistant\", \"content\": \"\"\"<Erik>\"She's extremely capable. I'm sure she can—\\\"\"\"\"},\n",
    "        { \"role\": \"user\", \"content\": f\"\"\"Please insert markers for when the character acting changes, you will be given the surrouding context to help. You should only add markers to the single linge given.\n",
    "\"Daniella Richards.\"\n",
    "\"She's extremely capable. I'm sure she can—\"\n",
    "\"She was the one who asked me to call you. She needs your help. It's urgent.\"\n",
    "When Erik returns to the bedroom to get his clothes, Simone is lying on her back, looking at him with a strange, empty expression. A strip of light from the streetlamp is shining in between the blinds.\n",
    "\"I didn't mean to wake you,\" he says softly.\n",
    "\"Who was that?\" she asks.\n",
    "\"Police... a detective... I didn't catch his name.\"\n",
    "         \n",
    "Here are the characters in the schene:\n",
    "{\", \".join(characters)}\n",
    "\n",
    "Here is the line that you must add the markers to:\n",
    "When Erik returns to the bedroom to get his clothes, Simone is lying on her back, looking at him with a strange, empty expression. A strip of light from the streetlamp is shining in between the blinds.\"\"\"},\n",
    "        { \"role\": \"assistant\", \"content\": \"\"\"<Erik>When Erik returns to the bedroom to get his clothes, <Simone>Simone is lying on her back, looking at him with a strange, empty expression. A strip of light from the streetlamp is shining in between the blinds.\"\"\"},\n",
    "        { \"role\": \"user\", \"content\": f\"\"\"Please insert markers for when the character acting changes, you will be given the surrouding context to help. You should only add markers to the single linge given.\n",
    "{get_lines(lines, i)}        \n",
    "         \n",
    "Here are the characters in the schene:\n",
    "{\", \".join(characters)}\n",
    "\n",
    "Here is the line that you must add the markers to:\n",
    "{line}\"\"\"}\n",
    "    ]\n",
    "    \n",
    "    output += oai_llm.invoke(\n",
    "        messages,\n",
    "    ).content + \"\\n\"\n",
    "    if i > 16:\n",
    "        break\n",
    "print(output)"
   ]
  },
  {
   "cell_type": "markdown",
   "metadata": {},
   "source": [
    "The precomputed text with the turns serves as a \"demo checkpoint\" so that we avoid needing to rerun the marker portion again."
   ]
  },
  {
   "cell_type": "code",
   "execution_count": null,
   "metadata": {},
   "outputs": [],
   "source": [
    "output = \"\"\"<Erik>Erik Maria Bark is yanked reluctantly from his dream when the telephone rings. Before he is fully awake, he hears himself say with a smile, \"Balloons and streamers.\"\n",
    "<Erik>His heart is pounding from the sudden awakening. Erik has no idea what he meant by these words. The dream is completely gone, as if he had never had it.\n",
    "<Erik>He fumbles to find the ringing phone, creeping out of the bedroom with it and closing the door behind him to avoid waking Simone. <Joona>A detective named Joona Linna asks if he is sufficiently awake to absorb important information. <Erik>His thoughts are still tumbling down into the dark empty space after his dream as he listens.\n",
    "<Joona Linna>\"I've heard you're very skilled in the treatment of acute trauma,\" says Linna.\n",
    "<Erik>\"Yes,\" says Erik.\n",
    "<Erik>He swallows a painkiller as he listens. <Joona Linna>The detective explains that he needs to question a fifteen-year-old boy who has witnessed a double murder and been seriously injured himself. During the night he was moved from the neurological unit in Huddinge to the neurosurgical unit at Karolinska University Hospital in Solna.\n",
    "<Erik>\"What's his condition?\" Erik asks.\n",
    "<Joona Linna>The detective rapidly summarizes the patient's status, concluding, \"He hasn't been stabilized. He's in circulatory shock and unconscious.\"\n",
    "<Erik>\"Who's the doctor in charge?\" asks Erik.\n",
    "<Joona Linna>\"Daniella Richards.\"\n",
    "<Erik>\"She's extremely capable. I'm sure she can—\"\n",
    "<Joona Linna>\"She was the one who asked me to call you. She needs your help. It's urgent.\"\n",
    "<Erik>When Erik returns to the bedroom to get his clothes, <Simone>Simone is lying on her back, looking at him with a strange, empty expression. A strip of light from the streetlamp is shining in between the blinds.\n",
    "<Erik>\"I didn't mean to wake you,\" he says softly.\n",
    "<Simone>\"Who was that?\" she asks.\n",
    "<Erik>\"Police... a detective... I didn't catch his name.\"\n",
    "<Simone>\"What's it about?\"\n",
    "<Erik>\"I have to go to the hospital,\" he replies. \"They need some help with a boy.\\\"\"\"\""
   ]
  },
  {
   "cell_type": "markdown",
   "metadata": {},
   "source": [
    "Split the markered text by the markers and convert into a sharegpt format"
   ]
  },
  {
   "cell_type": "code",
   "execution_count": null,
   "metadata": {},
   "outputs": [],
   "source": [
    "pattern = re.compile(r'<(.+?)>([^<]+)')\n",
    "\n",
    "# Find all matches\n",
    "matches = pattern.findall(output)\n",
    "\n",
    "# Create the list of dictionaries\n",
    "conversation = []\n",
    "\n",
    "for match in matches:\n",
    "    name, value = match\n",
    "    conversation.append({\"from\": name, \"value\": value.strip() })"
   ]
  },
  {
   "cell_type": "code",
   "execution_count": null,
   "metadata": {},
   "outputs": [],
   "source": [
    "def split_quoted_and_non_quoted(s):\n",
    "    # Regular expression to match quoted and non-quoted parts\n",
    "    pattern = re.compile(r'\"([^\"]+)\"|([^\"]+)')\n",
    "    \n",
    "    # Find all matches\n",
    "    matches = pattern.finditer(s)\n",
    "    \n",
    "    # Process matches to form the result list\n",
    "    result = []\n",
    "    for match in matches:\n",
    "        if match.group(1):\n",
    "            result.append({\"content\": match.group(1).strip(), \"type\": \"quoted\"})\n",
    "        elif match.group(2):\n",
    "            # Further split non-quoted parts by spaces while preserving spaces\n",
    "            result.append({\"content\": match.group(2).strip(), \"type\": \"unquoted\"})\n",
    "    \n",
    "    return result"
   ]
  },
  {
   "cell_type": "markdown",
   "metadata": {},
   "source": [
    "clarify character incase of slight hallucinations mispelling name or leaving out some part of it"
   ]
  },
  {
   "cell_type": "code",
   "execution_count": null,
   "metadata": {},
   "outputs": [],
   "source": [
    "for message in conversation:\n",
    "        messages = [\n",
    "                { \"role\": \"system\", \"content\": system_prompt },\n",
    "                { \"role\": \"user\", \"content\": f\"\"\"Given the following list of characters:\n",
    "{characters}\n",
    "\n",
    "Which character is the following referring to, use only the characters proper name as in the list.\n",
    "Joona\"\"\"},\n",
    "                { \"role\": \"assistant\", \"content\": \"Joona Linna\" },\n",
    "                { \"role\": \"user\", \"content\": f\"\"\"Given the following list of characters:\n",
    "{characters}\n",
    "\n",
    "Which character is the following referring to, use only the characters proper name as in the list.\n",
    "Maria Bark\"\"\"},\n",
    "                { \"role\": \"assistant\", \"content\": \"Erik Maria Bark\" },\n",
    "                { \"role\": \"user\", \"content\": f\"\"\"Given the following list of characters:\n",
    "{characters}\n",
    "\n",
    "Which character is the following referring to, use only the characters proper name as in the list.\n",
    "{message[\"from\"]}\"\"\"},\n",
    "        ]\n",
    "        output = oai_llm.invoke(messages, stop=[\"\\n\"])\n",
    "        print(f\"{message['from']}: {output.content}\")\n",
    "        message[\"from\"] = output.content"
   ]
  },
  {
   "cell_type": "markdown",
   "metadata": {},
   "source": [
    "Here we rewrite the non-spoken dialogue into first person e.g. Erik does xyz -> I do xyz  \n",
    "We give it the full context of the character as was originally pointed out in the initial prompt to hopefully get things such as nicknames or similar in the context as well."
   ]
  },
  {
   "cell_type": "code",
   "execution_count": null,
   "metadata": {},
   "outputs": [],
   "source": [
    "def rewrite_perspective(char, message):\n",
    "    chars = [re.sub(r\"^\\d+. \", \"\", character) for character in characters.splitlines()]\n",
    "    char = [c for c in chars if char in c][0]\n",
    "\n",
    "    messages = [\n",
    "        { \"role\": \"system\", \"content\": system_prompt },\n",
    "        { \"role\": \"user\", \"content\": f\"\"\"Please rewrite the following line to be from a first person present tense perspective. The character acting out the following line is Erik\n",
    "Avoid using the characters name in the rewritten text, keep in mind that pronouns may refer to other characters and should as such stay the same.\n",
    "\n",
    "Here is the line to rewrite:\n",
    "says Erik\"\"\" },\n",
    "        { \"role\": \"assistant\", \"content\": \"I say\" },\n",
    "        { \"role\": \"user\", \"content\": f\"\"\"Please rewrite the following line to be from a first person present tense perspective. The character acting out the following line is Erik\n",
    "Avoid using the characters name in the rewritten text, keep in mind that pronouns may refer to other characters and should as such stay the same.\n",
    "\n",
    "Here is the line to rewrite:\n",
    "When Erik returns to the bedroom to get his clothes,\"\"\" },\n",
    "        { \"role\": \"assistant\", \"content\": \"When I return to the bedroom to get my clothes,\" },\n",
    "        { \"role\": \"user\", \"content\": f\"\"\"Please rewrite the following line to be from a first person present tense perspective. The character acting out the following line is {char}\n",
    "Avoid using the characters name in the rewritten text, keep in mind that pronouns may refer to other characters and should as such stay the same.\n",
    "         \n",
    "Here is the line to rewrite:\n",
    "{message}\"\"\" },\n",
    "    ]\n",
    "\n",
    "    return oai_llm.invoke(messages).content\n",
    "\n",
    "results = []\n",
    "for message in conversation:\n",
    "    # remove speech from message as that shouldn't change perspective\n",
    "    split_message = split_quoted_and_non_quoted(message[\"value\"])\n",
    "    # then call rewrite_perspective on each part of remaining text individually and join them back with the speech in the correct position\n",
    "    rewritten = []\n",
    "    for part in split_message:\n",
    "        if part[\"type\"] == \"unquoted\":\n",
    "            content = rewrite_perspective(message[\"from\"], part[\"content\"])\n",
    "        else:\n",
    "            content = f'\"{part[\"content\"]}\"'\n",
    "        rewritten.append(content)\n",
    "    print(\" \".join(rewritten))\n",
    "    results.append({ \"from\": message[\"from\"], \"value\": \" \".join(rewritten) })"
   ]
  },
  {
   "cell_type": "markdown",
   "metadata": {},
   "source": [
    "Concatenate consecutive messags from the same character"
   ]
  },
  {
   "cell_type": "code",
   "execution_count": null,
   "metadata": {},
   "outputs": [],
   "source": [
    "current_char = None\n",
    "new_results = []\n",
    "current_mes = \"\"\n",
    "for mes in results:\n",
    "    if mes['from'] != current_char:\n",
    "        if current_char:\n",
    "            new_results.append({ \"from\": current_char, \"value\": current_mes})\n",
    "        current_mes = mes['value']\n",
    "        current_char = mes['from']\n",
    "    else:\n",
    "        current_mes += f\" {mes['value']}\"\n",
    "\n",
    "new_results.append({ \"from\": current_char, \"value\": current_mes})\n",
    "print(new_results)"
   ]
  },
  {
   "cell_type": "markdown",
   "metadata": {},
   "source": [
    "format into ChatML for visualization purposes"
   ]
  },
  {
   "cell_type": "code",
   "execution_count": null,
   "metadata": {},
   "outputs": [],
   "source": [
    "# format into chatml\n",
    "def turn(char, message):\n",
    "    return f\"\"\"<|im_start|>{char}\n",
    "{message}<|im_end|>\"\"\"\n",
    "\n",
    "print(\"\\n\".join([turn(result[\"from\"], result[\"value\"]) for result in new_results]))"
   ]
  }
 ],
 "metadata": {
  "kernelspec": {
   "display_name": "venv",
   "language": "python",
   "name": "python3"
  },
  "language_info": {
   "codemirror_mode": {
    "name": "ipython",
    "version": 3
   },
   "file_extension": ".py",
   "mimetype": "text/x-python",
   "name": "python",
   "nbconvert_exporter": "python",
   "pygments_lexer": "ipython3",
   "version": "3.10.11"
  }
 },
 "nbformat": 4,
 "nbformat_minor": 2
}
